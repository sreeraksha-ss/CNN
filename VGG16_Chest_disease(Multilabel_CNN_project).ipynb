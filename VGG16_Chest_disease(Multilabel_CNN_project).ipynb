{
  "nbformat": 4,
  "nbformat_minor": 0,
  "metadata": {
    "colab": {
      "provenance": [],
      "gpuType": "T4",
      "toc_visible": true,
      "mount_file_id": "1GUXfGXoj4sI_wartU9xBw5pFuvxo8-zk",
      "authorship_tag": "ABX9TyOyCKyAmAIQSjHLUXNXJZWy",
      "include_colab_link": true
    },
    "kernelspec": {
      "name": "python3",
      "display_name": "Python 3"
    },
    "language_info": {
      "name": "python"
    },
    "accelerator": "GPU"
  },
  "cells": [
    {
      "cell_type": "markdown",
      "metadata": {
        "id": "view-in-github",
        "colab_type": "text"
      },
      "source": [
        "<a href=\"https://colab.research.google.com/github/sreeraksha-ss/CNN-Projects/blob/main/VGG16_Chest_disease(Multilabel_CNN_project).ipynb\" target=\"_parent\"><img src=\"https://colab.research.google.com/assets/colab-badge.svg\" alt=\"Open In Colab\"/></a>"
      ]
    },
    {
      "cell_type": "markdown",
      "source": [
        "# Introduction\n",
        "\n",
        "VGG16\n",
        "\n",
        "VGG16 is a convolutional neural network architecture that has been widely used for image classification tasks.\n",
        "This project  aims to detect and classify chest X-rays based on two diseases (Pnuemonia and covid-19 Xrays ) with the normal Xray using minimal computing resources that achieve better results compared to traditional models."
      ],
      "metadata": {
        "id": "lG9MDD6VvqnC"
      }
    },
    {
      "cell_type": "markdown",
      "source": [
        "# Importing packages\n"
      ],
      "metadata": {
        "id": "9o_QtoagvZsW"
      }
    },
    {
      "cell_type": "code",
      "source": [
        "import numpy as np\n",
        "import pandas as pd\n",
        "import matplotlib.pyplot as plt\n",
        "import cv2\n",
        "import tensorflow as tf\n",
        "import tensorflow.keras\n",
        "from tensorflow.keras.preprocessing.image import ImageDataGenerator\n",
        "from tensorflow.keras.models import Sequential, Model\n",
        "from tensorflow.keras.layers import Conv2D, MaxPool2D, Dense, Flatten, Activation, ReLU\n",
        "from tensorflow.keras.optimizers import Adam\n",
        "from tensorflow.keras.activations import sigmoid, softmax, relu\n",
        "from tensorflow.keras.applications.vgg16 import VGG16"
      ],
      "metadata": {
        "id": "NCger4HiWS7z"
      },
      "execution_count": 1,
      "outputs": []
    },
    {
      "cell_type": "markdown",
      "source": [
        "check the number of folders in the parcicular folder"
      ],
      "metadata": {
        "id": "taE1dQ54W2IO"
      }
    },
    {
      "cell_type": "code",
      "source": [
        "import glob\n",
        "from glob import glob\n",
        "glob(\"/content/drive/MyDrive/CNN Projects/chest-xray-multi-class/train/*\")"
      ],
      "metadata": {
        "colab": {
          "base_uri": "https://localhost:8080/"
        },
        "id": "lSpwsH7KW2vB",
        "outputId": "c07bbe68-8fba-4849-c93b-9c7238e6b0e9"
      },
      "execution_count": 2,
      "outputs": [
        {
          "output_type": "execute_result",
          "data": {
            "text/plain": [
              "['/content/drive/MyDrive/CNN Projects/chest-xray-multi-class/train/NORMAL',\n",
              " '/content/drive/MyDrive/CNN Projects/chest-xray-multi-class/train/PNEUMONIA',\n",
              " '/content/drive/MyDrive/CNN Projects/chest-xray-multi-class/train/COVID19']"
            ]
          },
          "metadata": {},
          "execution_count": 2
        }
      ]
    },
    {
      "cell_type": "code",
      "source": [
        "glob(\"/content/drive/MyDrive/CNN Projects/chest-xray-multi-class/test/*\")"
      ],
      "metadata": {
        "colab": {
          "base_uri": "https://localhost:8080/"
        },
        "id": "8mKNzHZEaOFB",
        "outputId": "49efb585-2797-4467-9cf9-e17fe439bdc8"
      },
      "execution_count": 3,
      "outputs": [
        {
          "output_type": "execute_result",
          "data": {
            "text/plain": [
              "['/content/drive/MyDrive/CNN Projects/chest-xray-multi-class/test/COVID19',\n",
              " '/content/drive/MyDrive/CNN Projects/chest-xray-multi-class/test/NORMAL',\n",
              " '/content/drive/MyDrive/CNN Projects/chest-xray-multi-class/test/PNEUMONIA']"
            ]
          },
          "metadata": {},
          "execution_count": 3
        }
      ]
    },
    {
      "cell_type": "markdown",
      "source": [
        "# Code"
      ],
      "metadata": {
        "id": "sdj1ZVUfvlUu"
      }
    },
    {
      "cell_type": "code",
      "execution_count": 4,
      "metadata": {
        "colab": {
          "base_uri": "https://localhost:8080/"
        },
        "id": "jvQWW0LnWN8R",
        "outputId": "a0c4ae1e-b487-49c8-ef98-491d5db20ee9"
      },
      "outputs": [
        {
          "output_type": "stream",
          "name": "stdout",
          "text": [
            "Found 4735 images belonging to 3 classes.\n",
            "Found 1282 images belonging to 3 classes.\n",
            "Epoch 1/10\n",
            "1/1 [==============================] - 23s 23s/step - loss: 1.0448 - accuracy: 0.3182 - val_loss: 2.0251 - val_accuracy: 0.5455\n",
            "Epoch 2/10\n",
            "1/1 [==============================] - 13s 13s/step - loss: 2.1365 - accuracy: 0.5000 - val_loss: 1.0985 - val_accuracy: 0.6818\n",
            "Epoch 3/10\n",
            "1/1 [==============================] - 13s 13s/step - loss: 1.0802 - accuracy: 0.6364 - val_loss: 1.1610 - val_accuracy: 0.6591\n",
            "Epoch 4/10\n",
            "1/1 [==============================] - 14s 14s/step - loss: 1.7678 - accuracy: 0.4091 - val_loss: 0.7701 - val_accuracy: 0.7500\n",
            "Epoch 5/10\n",
            "1/1 [==============================] - 11s 11s/step - loss: 0.8783 - accuracy: 0.5909 - val_loss: 0.8722 - val_accuracy: 0.6818\n",
            "Epoch 6/10\n",
            "1/1 [==============================] - 11s 11s/step - loss: 1.0429 - accuracy: 0.6818 - val_loss: 0.5365 - val_accuracy: 0.7955\n",
            "Epoch 7/10\n",
            "1/1 [==============================] - 11s 11s/step - loss: 0.7913 - accuracy: 0.6818 - val_loss: 0.5735 - val_accuracy: 0.6136\n",
            "Epoch 8/10\n",
            "1/1 [==============================] - 7s 7s/step - loss: 0.5117 - accuracy: 0.7727 - val_loss: 0.7932 - val_accuracy: 0.5909\n",
            "Epoch 9/10\n",
            "1/1 [==============================] - 9s 9s/step - loss: 0.5652 - accuracy: 0.8182 - val_loss: 0.6144 - val_accuracy: 0.7045\n",
            "Epoch 10/10\n",
            "1/1 [==============================] - 11s 11s/step - loss: 0.7499 - accuracy: 0.6818 - val_loss: 0.6698 - val_accuracy: 0.7955\n",
            "(2155, 2443, 3)\n",
            "1/1 [==============================] - 1s 683ms/step\n",
            "1\n",
            "the image belo9ngs to category:PNEUMONIA\n"
          ]
        }
      ],
      "source": [
        "class VGG16_multi:\n",
        "\n",
        "    def __init__(self, path):\n",
        "        self.path = path\n",
        "        self.train_path = \"/content/drive/MyDrive/CNN Projects/chest-xray-multi-class/train\"\n",
        "        self.test_path = \"/content/drive/MyDrive/CNN Projects/chest-xray-multi-class/test\"\n",
        "        self.height,self.width= [200, 200]\n",
        "        self.label = [\"NORMAL\", \"PNEUMONIA\",\"COVID19\" ]\n",
        "\n",
        "    def image_augmentation(self):\n",
        "        try:\n",
        "            preprocess_train_data = ImageDataGenerator(rescale = 1.0/255.0, shear_range=0.2, horizontal_flip = True,\n",
        "                                                       zoom_range = 0.2)\n",
        "            preprocess_test_data = ImageDataGenerator(rescale = 1.0/255.0)\n",
        "            train_data, test_data = self.preprocess(preprocess_train_data, preprocess_test_data)\n",
        "            model = self.architecture(train_data, test_data)\n",
        "            self.validation(model)\n",
        "\n",
        "        except Exception as e:\n",
        "            print(f\"The error is in image_augmentation {e.__str__()}\")\n",
        "\n",
        "    def preprocess(self, preprocess_train_data, preprocess_test_data):\n",
        "        try:\n",
        "            train_data = preprocess_train_data.flow_from_directory(self.train_path, target_size=(self.height, self.width),\n",
        "                                                                   class_mode=\"categorical\", classes=self.label, batch_size=22)\n",
        "            test_data = preprocess_test_data.flow_from_directory(self.test_path, target_size=(self.height, self.width),\n",
        "                                                                 class_mode=\"categorical\", classes=self.label, batch_size=22)\n",
        "            return train_data, test_data\n",
        "        except Exception as e:\n",
        "            print(f\"The error is in preprocess{e.__str__()}\")\n",
        "\n",
        "    def architecture(self, train_data, test_data):\n",
        "        try:\n",
        "            vgg16 = VGG16(input_shape = (self.height, self.width, 3), weights = 'imagenet', include_top=False)\n",
        "            for layers in vgg16.layers:\n",
        "                layers.trainable = False\n",
        "            x = Flatten()(vgg16.output) #1D array\n",
        "            predict = Dense(3, activation=\"softmax\")(x) # 2 or more classes\n",
        "            self.model = Model(inputs = vgg16.inputs, outputs = predict)\n",
        "            self.model.compile(optimizer=\"adam\", loss=\"categorical_crossentropy\", metrics=[\"accuracy\"])\n",
        "            self.model.fit(train_data, validation_data=test_data, epochs=10, steps_per_epoch=1, validation_steps=2)\n",
        "            return self.model\n",
        "        except Exception as e:\n",
        "            print(f\"The error in architecture{e.__str__()}\")\n",
        "\n",
        "    def validation(self, model):\n",
        "        try:\n",
        "            pic = cv2.imread(\"/content/drive/MyDrive/CNN Projects/chest-xray-multi-class/pred/N(10).jpg\")\n",
        "            print(pic.shape)\n",
        "            pic = cv2.resize(pic, (self.height, self.width))\n",
        "            pic = (np.array(pic))/255\n",
        "            pic = np.expand_dims(pic,axis= 0)\n",
        "            result = model.predict(pic)\n",
        "            sol = np.argmax(result , axis = 1) #\n",
        "            print(sol[0])\n",
        "            print(f\"the image belongs to category:{self.label[sol[0]]}\")\n",
        "        except Exception as e:\n",
        "            print(f\"The error in validation {e.__str__()}\")\n",
        "\n",
        "\n",
        "if __name__== \"__main__\":\n",
        "    try:\n",
        "        obj = VGG16_multi(\"/content/drive/MyDrive/CNN Projects/chest-xray-multi-class\")\n",
        "        obj.image_augmentation()\n",
        "    except Exception as e:\n",
        "        print(f\"The error is in main {e.__str__()}\")"
      ]
    }
  ]
}